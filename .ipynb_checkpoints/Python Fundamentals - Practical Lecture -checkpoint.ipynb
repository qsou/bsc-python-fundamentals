{
 "cells": [
  {
   "cell_type": "markdown",
   "metadata": {},
   "source": [
    "### Nested Structures "
   ]
  },
  {
   "cell_type": "code",
   "execution_count": 1,
   "metadata": {},
   "outputs": [],
   "source": [
    "avengers = {\n",
    "    \"Captain America\": {\n",
    "        'movies':['The First Avenger', 'The Avengers', 'Winter Solider', 'Age of Ultron', \n",
    "                  'Civil War', 'Infinity War', 'Endgame']\n",
    "    }, \n",
    "    \"Thor\": {\n",
    "        'movies':['Thor', 'The Dark World', 'Ragnarok']\n",
    "    }, \n",
    "    \"Iron Man\": {\n",
    "       'movies':['Iron Man', 'Iron Man 2', 'Iron Man 3'] \n",
    "    }}"
   ]
  },
  {
   "cell_type": "code",
   "execution_count": 6,
   "metadata": {},
   "outputs": [
    {
     "name": "stdout",
     "output_type": "stream",
     "text": [
      "['The First Avenger', 'The Avengers', 'Winter Solider', 'Age of Ultron', 'Civil War', 'Infinity War', 'Endgame']\n"
     ]
    }
   ],
   "source": [
    "#how do we print the movies Captain America was in\n",
    "print(avengers[\"Captain America\"]['movies'])"
   ]
  },
  {
   "cell_type": "code",
   "execution_count": 9,
   "metadata": {},
   "outputs": [
    {
     "data": {
      "text/plain": [
       "['Captain America', 'Thor', 'Iron Man']"
      ]
     },
     "execution_count": 9,
     "metadata": {},
     "output_type": "execute_result"
    }
   ],
   "source": [
    "#create a list of avengers names\n",
    "avengers_list = list(avengers.keys())\n",
    "avengers_list"
   ]
  },
  {
   "cell_type": "code",
   "execution_count": 20,
   "metadata": {},
   "outputs": [
    {
     "data": {
      "text/plain": [
       "[('Captain America', 'The First Avenger'),\n",
       " ('Thor', 'Thor'),\n",
       " ('Iron Man', 'Iron Man')]"
      ]
     },
     "execution_count": 20,
     "metadata": {},
     "output_type": "execute_result"
    }
   ],
   "source": [
    "#then create a list of tuples containing each avenger and their first movie\n",
    "[(x, avengers[x]['movies'][0]) for x in avengers_list]"
   ]
  },
  {
   "cell_type": "code",
   "execution_count": null,
   "metadata": {},
   "outputs": [],
   "source": []
  }
 ],
 "metadata": {
  "kernelspec": {
   "display_name": "learn-env",
   "language": "python",
   "name": "learn-env"
  },
  "language_info": {
   "codemirror_mode": {
    "name": "ipython",
    "version": 3
   },
   "file_extension": ".py",
   "mimetype": "text/x-python",
   "name": "python",
   "nbconvert_exporter": "python",
   "pygments_lexer": "ipython3",
   "version": "3.8.5"
  },
  "toc": {
   "base_numbering": 1,
   "nav_menu": {},
   "number_sections": true,
   "sideBar": true,
   "skip_h1_title": true,
   "title_cell": "Table of Contents",
   "title_sidebar": "Contents",
   "toc_cell": false,
   "toc_position": {},
   "toc_section_display": true,
   "toc_window_display": false
  }
 },
 "nbformat": 4,
 "nbformat_minor": 2
}
